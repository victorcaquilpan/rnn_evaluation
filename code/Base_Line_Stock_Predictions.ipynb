{
  "nbformat": 4,
  "nbformat_minor": 0,
  "metadata": {
    "colab": {
      "provenance": []
    },
    "kernelspec": {
      "name": "python3",
      "display_name": "Python 3"
    },
    "language_info": {
      "name": "python"
    }
  },
  "cells": [
    {
      "cell_type": "markdown",
      "source": [
        "# **Stock Market Prediction - Baseline Models**\n",
        "\n",
        "In this notebook some baseline models are tested to do one-day ahead prediction.Different combination of sequence lenght and stack GRU cell layers are used.\n"
      ],
      "metadata": {
        "id": "Z6svqzKkrPfT"
      }
    },
    {
      "cell_type": "markdown",
      "source": [
        "# **Load libraries and data**"
      ],
      "metadata": {
        "id": "xdzO598r6MD7"
      }
    },
    {
      "cell_type": "code",
      "execution_count": 1,
      "metadata": {
        "id": "0M_d6ym_m5nY"
      },
      "outputs": [],
      "source": [
        "# Load libraries\n",
        "import pandas as pd\n",
        "import numpy as np\n",
        "import random\n",
        "import matplotlib.pyplot as plt\n",
        "from sklearn.preprocessing import MinMaxScaler\n",
        "from sklearn.metrics import r2_score \n",
        "import datetime\n",
        "from sklearn.linear_model import LinearRegression\n",
        "\n",
        "# Set seed to reproducibility\n",
        "random.seed(55)"
      ]
    },
    {
      "cell_type": "code",
      "source": [
        "# Load data\n",
        "data = pd.read_csv('AAPL.csv')  \n",
        "# Convert Date to Date format\n",
        "data['Date'] = pd.to_datetime(data['Date'], format='%Y-%m-%d')\n",
        "\n",
        "# Crop data to use stock values from 2006 onwards\n",
        "data = data[data.Date>=datetime.datetime(2006,1,1)]\n",
        "\n",
        "# Visualization of our data\n",
        "data.head()"
      ],
      "metadata": {
        "id": "LAUyPTD0sOfV",
        "colab": {
          "base_uri": "https://localhost:8080/",
          "height": 268
        },
        "outputId": "0fc889ca-97f7-4e7d-ddf7-6deb5f2fc18e"
      },
      "execution_count": 2,
      "outputs": [
        {
          "output_type": "execute_result",
          "data": {
            "text/plain": [
              "           Date       Open       High        Low      Close  Adj Close  \\\n",
              "6323 2006-01-03  10.340000  10.678572  10.321428  10.678572   9.269435   \n",
              "6324 2006-01-04  10.732857  10.854285  10.642858  10.710000   9.296719   \n",
              "6325 2006-01-05  10.690000  10.700000  10.535714  10.625714   9.223555   \n",
              "6326 2006-01-06  10.750000  10.957143  10.650000  10.900000   9.461646   \n",
              "6327 2006-01-09  10.961429  11.028571  10.820000  10.864285   9.430640   \n",
              "\n",
              "         Volume  \n",
              "6323  201808600  \n",
              "6324  154900900  \n",
              "6325  112355600  \n",
              "6326  176114400  \n",
              "6327  168760200  "
            ],
            "text/html": [
              "\n",
              "  <div id=\"df-00fa59c4-321b-4c6e-b1cc-f7a9b0db53c3\">\n",
              "    <div class=\"colab-df-container\">\n",
              "      <div>\n",
              "<style scoped>\n",
              "    .dataframe tbody tr th:only-of-type {\n",
              "        vertical-align: middle;\n",
              "    }\n",
              "\n",
              "    .dataframe tbody tr th {\n",
              "        vertical-align: top;\n",
              "    }\n",
              "\n",
              "    .dataframe thead th {\n",
              "        text-align: right;\n",
              "    }\n",
              "</style>\n",
              "<table border=\"1\" class=\"dataframe\">\n",
              "  <thead>\n",
              "    <tr style=\"text-align: right;\">\n",
              "      <th></th>\n",
              "      <th>Date</th>\n",
              "      <th>Open</th>\n",
              "      <th>High</th>\n",
              "      <th>Low</th>\n",
              "      <th>Close</th>\n",
              "      <th>Adj Close</th>\n",
              "      <th>Volume</th>\n",
              "    </tr>\n",
              "  </thead>\n",
              "  <tbody>\n",
              "    <tr>\n",
              "      <th>6323</th>\n",
              "      <td>2006-01-03</td>\n",
              "      <td>10.340000</td>\n",
              "      <td>10.678572</td>\n",
              "      <td>10.321428</td>\n",
              "      <td>10.678572</td>\n",
              "      <td>9.269435</td>\n",
              "      <td>201808600</td>\n",
              "    </tr>\n",
              "    <tr>\n",
              "      <th>6324</th>\n",
              "      <td>2006-01-04</td>\n",
              "      <td>10.732857</td>\n",
              "      <td>10.854285</td>\n",
              "      <td>10.642858</td>\n",
              "      <td>10.710000</td>\n",
              "      <td>9.296719</td>\n",
              "      <td>154900900</td>\n",
              "    </tr>\n",
              "    <tr>\n",
              "      <th>6325</th>\n",
              "      <td>2006-01-05</td>\n",
              "      <td>10.690000</td>\n",
              "      <td>10.700000</td>\n",
              "      <td>10.535714</td>\n",
              "      <td>10.625714</td>\n",
              "      <td>9.223555</td>\n",
              "      <td>112355600</td>\n",
              "    </tr>\n",
              "    <tr>\n",
              "      <th>6326</th>\n",
              "      <td>2006-01-06</td>\n",
              "      <td>10.750000</td>\n",
              "      <td>10.957143</td>\n",
              "      <td>10.650000</td>\n",
              "      <td>10.900000</td>\n",
              "      <td>9.461646</td>\n",
              "      <td>176114400</td>\n",
              "    </tr>\n",
              "    <tr>\n",
              "      <th>6327</th>\n",
              "      <td>2006-01-09</td>\n",
              "      <td>10.961429</td>\n",
              "      <td>11.028571</td>\n",
              "      <td>10.820000</td>\n",
              "      <td>10.864285</td>\n",
              "      <td>9.430640</td>\n",
              "      <td>168760200</td>\n",
              "    </tr>\n",
              "  </tbody>\n",
              "</table>\n",
              "</div>\n",
              "      <button class=\"colab-df-convert\" onclick=\"convertToInteractive('df-00fa59c4-321b-4c6e-b1cc-f7a9b0db53c3')\"\n",
              "              title=\"Convert this dataframe to an interactive table.\"\n",
              "              style=\"display:none;\">\n",
              "        \n",
              "  <svg xmlns=\"http://www.w3.org/2000/svg\" height=\"24px\"viewBox=\"0 0 24 24\"\n",
              "       width=\"24px\">\n",
              "    <path d=\"M0 0h24v24H0V0z\" fill=\"none\"/>\n",
              "    <path d=\"M18.56 5.44l.94 2.06.94-2.06 2.06-.94-2.06-.94-.94-2.06-.94 2.06-2.06.94zm-11 1L8.5 8.5l.94-2.06 2.06-.94-2.06-.94L8.5 2.5l-.94 2.06-2.06.94zm10 10l.94 2.06.94-2.06 2.06-.94-2.06-.94-.94-2.06-.94 2.06-2.06.94z\"/><path d=\"M17.41 7.96l-1.37-1.37c-.4-.4-.92-.59-1.43-.59-.52 0-1.04.2-1.43.59L10.3 9.45l-7.72 7.72c-.78.78-.78 2.05 0 2.83L4 21.41c.39.39.9.59 1.41.59.51 0 1.02-.2 1.41-.59l7.78-7.78 2.81-2.81c.8-.78.8-2.07 0-2.86zM5.41 20L4 18.59l7.72-7.72 1.47 1.35L5.41 20z\"/>\n",
              "  </svg>\n",
              "      </button>\n",
              "      \n",
              "  <style>\n",
              "    .colab-df-container {\n",
              "      display:flex;\n",
              "      flex-wrap:wrap;\n",
              "      gap: 12px;\n",
              "    }\n",
              "\n",
              "    .colab-df-convert {\n",
              "      background-color: #E8F0FE;\n",
              "      border: none;\n",
              "      border-radius: 50%;\n",
              "      cursor: pointer;\n",
              "      display: none;\n",
              "      fill: #1967D2;\n",
              "      height: 32px;\n",
              "      padding: 0 0 0 0;\n",
              "      width: 32px;\n",
              "    }\n",
              "\n",
              "    .colab-df-convert:hover {\n",
              "      background-color: #E2EBFA;\n",
              "      box-shadow: 0px 1px 2px rgba(60, 64, 67, 0.3), 0px 1px 3px 1px rgba(60, 64, 67, 0.15);\n",
              "      fill: #174EA6;\n",
              "    }\n",
              "\n",
              "    [theme=dark] .colab-df-convert {\n",
              "      background-color: #3B4455;\n",
              "      fill: #D2E3FC;\n",
              "    }\n",
              "\n",
              "    [theme=dark] .colab-df-convert:hover {\n",
              "      background-color: #434B5C;\n",
              "      box-shadow: 0px 1px 3px 1px rgba(0, 0, 0, 0.15);\n",
              "      filter: drop-shadow(0px 1px 2px rgba(0, 0, 0, 0.3));\n",
              "      fill: #FFFFFF;\n",
              "    }\n",
              "  </style>\n",
              "\n",
              "      <script>\n",
              "        const buttonEl =\n",
              "          document.querySelector('#df-00fa59c4-321b-4c6e-b1cc-f7a9b0db53c3 button.colab-df-convert');\n",
              "        buttonEl.style.display =\n",
              "          google.colab.kernel.accessAllowed ? 'block' : 'none';\n",
              "\n",
              "        async function convertToInteractive(key) {\n",
              "          const element = document.querySelector('#df-00fa59c4-321b-4c6e-b1cc-f7a9b0db53c3');\n",
              "          const dataTable =\n",
              "            await google.colab.kernel.invokeFunction('convertToInteractive',\n",
              "                                                     [key], {});\n",
              "          if (!dataTable) return;\n",
              "\n",
              "          const docLinkHtml = 'Like what you see? Visit the ' +\n",
              "            '<a target=\"_blank\" href=https://colab.research.google.com/notebooks/data_table.ipynb>data table notebook</a>'\n",
              "            + ' to learn more about interactive tables.';\n",
              "          element.innerHTML = '';\n",
              "          dataTable['output_type'] = 'display_data';\n",
              "          await google.colab.output.renderOutput(dataTable, element);\n",
              "          const docLink = document.createElement('div');\n",
              "          docLink.innerHTML = docLinkHtml;\n",
              "          element.appendChild(docLink);\n",
              "        }\n",
              "      </script>\n",
              "    </div>\n",
              "  </div>\n",
              "  "
            ]
          },
          "metadata": {},
          "execution_count": 2
        }
      ]
    },
    {
      "cell_type": "code",
      "source": [
        "# Split data in training and test\n",
        "data_train = data[data.Date<datetime.datetime(2019,1,1)]\n",
        "data_test = data[data.Date>=datetime.datetime(2019,1,1)]"
      ],
      "metadata": {
        "id": "YGut3Zz8cDK1"
      },
      "execution_count": 3,
      "outputs": []
    },
    {
      "cell_type": "code",
      "source": [
        "# For prediction, we go to use a window slice of different lenght. \n",
        "# We go to start with 20 samples (Open[0] to Open[19]). In this way, we can \n",
        "# predict the value 21 (Open[20]) and for next iteration, we take values\n",
        "# Open[20] to Open[39] to predict Open[40] and so on.\n",
        "\n",
        "# Now, first, we go to normalize data in a range of 0 to 1.\n",
        "\n",
        "# Define min max scaler\n",
        "scaler = MinMaxScaler(feature_range=(0,1))\n",
        "\n",
        "# Scale data\n",
        "data_train['Scaled Open'] = scaler.fit_transform(data_train[['Open']])\n",
        "# Also, scale test data\n",
        "data_test['Scaled Open'] = scaler.transform(data_test[['Open']])"
      ],
      "metadata": {
        "id": "BQGXd6KH93pH",
        "colab": {
          "base_uri": "https://localhost:8080/"
        },
        "outputId": "ea78bf77-d196-4823-f9f6-3630081a7045"
      },
      "execution_count": 4,
      "outputs": [
        {
          "output_type": "stream",
          "name": "stderr",
          "text": [
            "/usr/local/lib/python3.7/dist-packages/ipykernel_launcher.py:12: SettingWithCopyWarning: \n",
            "A value is trying to be set on a copy of a slice from a DataFrame.\n",
            "Try using .loc[row_indexer,col_indexer] = value instead\n",
            "\n",
            "See the caveats in the documentation: https://pandas.pydata.org/pandas-docs/stable/user_guide/indexing.html#returning-a-view-versus-a-copy\n",
            "  if sys.path[0] == '':\n",
            "/usr/local/lib/python3.7/dist-packages/ipykernel_launcher.py:14: SettingWithCopyWarning: \n",
            "A value is trying to be set on a copy of a slice from a DataFrame.\n",
            "Try using .loc[row_indexer,col_indexer] = value instead\n",
            "\n",
            "See the caveats in the documentation: https://pandas.pydata.org/pandas-docs/stable/user_guide/indexing.html#returning-a-view-versus-a-copy\n",
            "  \n"
          ]
        }
      ]
    },
    {
      "cell_type": "code",
      "source": [
        "# Now, we go to check Open value in a plot \n",
        "plt.plot(data['Date'],data['Open'])\n",
        "plt.plot(data_train['Date'],data_train['Open'],label = 'Training data', color='red')\n",
        "plt.plot(data_test['Date'],data_test['Open'],label = 'Testing data', color='blue')\n",
        "plt.xlabel('Date')\n",
        "plt.ylabel('Stock value')\n",
        "plt.title('Stock Market values for Apple Inc')\n",
        "plt.legend()\n",
        "plt.show()"
      ],
      "metadata": {
        "colab": {
          "base_uri": "https://localhost:8080/",
          "height": 295
        },
        "id": "cDGyvvCh5AFf",
        "outputId": "04e47093-2f8d-4be3-92ce-7e5ce4b9ee9d"
      },
      "execution_count": 5,
      "outputs": [
        {
          "output_type": "display_data",
          "data": {
            "text/plain": [
              "<Figure size 432x288 with 1 Axes>"
            ],
            "image/png": "[encoded data removed]"
          },
          "metadata": {
            "needs_background": "light"
          }
        }
      ]
    },
    {
      "cell_type": "code",
      "source": [
        "# Extract data\n",
        "train_values =  data_train[['Date','Scaled Open']]\n",
        "test_values =  data_test[['Date','Scaled Open']]"
      ],
      "metadata": {
        "id": "QCESeZ1ZWlAV"
      },
      "execution_count": 6,
      "outputs": []
    },
    {
      "cell_type": "markdown",
      "source": [
        "# **Linear regression model**"
      ],
      "metadata": {
        "id": "OZQvP7DZpf8Z"
      }
    },
    {
      "cell_type": "code",
      "source": [
        "# Define a sequence length\n",
        "sequence_length = 15\n",
        "\n",
        "# We go to create an array with our X and y values\n",
        "previous_days_train = []\n",
        "current_day_train = []\n",
        "\n",
        "for x in range(len(train_values)-sequence_length):\n",
        "  previous_days_train.append(train_values[['Scaled Open']][x:x+sequence_length].values)\n",
        "  current_day_train.append(train_values[['Scaled Open']].values[x+sequence_length])\n",
        "\n",
        "previous_days_train = np.array(previous_days_train)\n",
        "previous_days_train = np.reshape(previous_days_train,(-1,sequence_length))\n",
        "\n",
        "current_day_train = np.array(current_day_train)\n",
        "current_day_train = current_day_train.reshape((-1))"
      ],
      "metadata": {
        "id": "p_O8fF_gpt33"
      },
      "execution_count": 7,
      "outputs": []
    },
    {
      "cell_type": "code",
      "source": [
        "# We go to create an array with our X and y values\n",
        "previous_days_test = []\n",
        "current_day_test = []\n",
        "\n",
        "for x in range(len(test_values)-sequence_length):\n",
        "  previous_days_test.append(test_values[['Scaled Open']][x:x+sequence_length].values)\n",
        "  current_day_test.append(test_values[['Scaled Open']].values[x+sequence_length])\n",
        "\n",
        "previous_days_test = np.array(previous_days_test)\n",
        "previous_days_test = np.reshape(previous_days_test,(-1,sequence_length))\n",
        "\n",
        "current_day_test = np.array(current_day_test)\n",
        "current_day_test = current_day_test.reshape((-1))"
      ],
      "metadata": {
        "id": "I-gyxNR7yBa2"
      },
      "execution_count": 8,
      "outputs": []
    },
    {
      "cell_type": "code",
      "source": [
        "reg_model = LinearRegression().fit(previous_days_train, current_day_train)"
      ],
      "metadata": {
        "id": "v0ziuQ5FxM5X"
      },
      "execution_count": 9,
      "outputs": []
    },
    {
      "cell_type": "code",
      "source": [
        "pred_training =  reg_model.predict(previous_days_train)\n",
        "pred_testing  =  reg_model.predict(previous_days_test)"
      ],
      "metadata": {
        "id": "Ao-Mmx9SxWXW"
      },
      "execution_count": 10,
      "outputs": []
    },
    {
      "cell_type": "code",
      "source": [
        "# Print r square in train\n",
        "R_square_train = r2_score(data_train[['Open']][sequence_length:].values, scaler.inverse_transform(pred_training.reshape(-1, 1))) \n",
        "print('Coefficient of determination in train', round(R_square_train,2))\n",
        "# Print r square in test\n",
        "R_square_test = r2_score(data_test[['Open']][sequence_length:].values,scaler.inverse_transform(pred_testing.reshape(-1, 1))) \n",
        "print('Coefficient of determination in test', round(R_square_test,2))\n",
        "\n",
        "# Getting MAE\n",
        "error_mean_train = round(np.mean(abs(data_train[['Open']][sequence_length:].values- scaler.inverse_transform(pred_training.reshape(-1, 1)))),2)\n",
        "print('Mean Absolute Error in training: ', str(error_mean_train))\n",
        "error_mean_test = round(np.mean(abs(scaler.inverse_transform(pred_testing.reshape(-1, 1))- data_test[['Open']][sequence_length:].values)),2)\n",
        "print('Mean Absolute Error in testing: ', str(error_mean_test))"
      ],
      "metadata": {
        "colab": {
          "base_uri": "https://localhost:8080/"
        },
        "id": "T-XOyxRaz872",
        "outputId": "85f59637-7f63-4147-c1a0-98f05487e924"
      },
      "execution_count": 11,
      "outputs": [
        {
          "output_type": "stream",
          "name": "stdout",
          "text": [
            "Coefficient of determination in train 1.0\n",
            "Coefficient of determination in test 0.99\n",
            "Mean Absolute Error in training:  0.94\n",
            "Mean Absolute Error in testing:  3.2\n"
          ]
        }
      ]
    },
    {
      "cell_type": "code",
      "source": [
        "# Plot prediction\n",
        "figure, axis = plt.subplots(1, 2,figsize=(15, 5))\n",
        "axis[0].plot(data_train['Date'][sequence_length:],data_train['Open'][sequence_length:],label = 'True value')\n",
        "axis[0].plot(data_train['Date'][sequence_length:],scaler.inverse_transform(pred_training.reshape(-1, 1)),label = 'Prediction')\n",
        "axis[0].set_title(\"Prediction in  training\")\n",
        "axis[0].set_ylim(0,350)\n",
        "axis[1].plot(data_test['Date'][sequence_length:],data_test['Open'][sequence_length:],label = 'True value')\n",
        "axis[1].plot(data_test['Date'][sequence_length:],scaler.inverse_transform(pred_testing.reshape(-1, 1)),label = 'Prediction')\n",
        "axis[1].set_title(\"Prediction in  testing\")\n",
        "axis[1].set_ylim(0,350)\n",
        "plt.legend(loc = 'upper left')\n",
        "plt.show()"
      ],
      "metadata": {
        "colab": {
          "base_uri": "https://localhost:8080/",
          "height": 245
        },
        "id": "Vuy_YevExj3H",
        "outputId": "5ac747fe-8ff3-4109-c785-9a03be14592f"
      },
      "execution_count": 12,
      "outputs": [
        {
          "output_type": "display_data",
          "data": {
            "text/plain": [
              "<Figure size 1080x360 with 2 Axes>"
            ],
            "image/png": "[encoded data removed]"
          },
          "metadata": {
            "needs_background": "light"
          }
        }
      ]
    },
    {
      "cell_type": "markdown",
      "source": [
        "# **ARIMA**"
      ],
      "metadata": {
        "id": "KOkw3AdB4HYR"
      }
    },
    {
      "cell_type": "code",
      "source": [
        "from statsmodels.tsa.arima.model import ARIMA\n",
        "model = ARIMA(data_train['Scaled Open'], order=(5,1,50))\n",
        "model_fit = model.fit(method_kwargs={\"warn_convergence\": False})"
      ],
      "metadata": {
        "colab": {
          "base_uri": "https://localhost:8080/"
        },
        "id": "bpdZJ8V54Mvf",
        "outputId": "266f8260-c02d-43a9-9304-e9729c1e5668"
      },
      "execution_count": 13,
      "outputs": [
        {
          "output_type": "stream",
          "name": "stderr",
          "text": [
            "/usr/local/lib/python3.7/dist-packages/statsmodels/tsa/base/tsa_model.py:579: ValueWarning: An unsupported index was provided and will be ignored when e.g. forecasting.\n",
            "  ' ignored when e.g. forecasting.', ValueWarning)\n",
            "/usr/local/lib/python3.7/dist-packages/statsmodels/tsa/base/tsa_model.py:579: ValueWarning: An unsupported index was provided and will be ignored when e.g. forecasting.\n",
            "  ' ignored when e.g. forecasting.', ValueWarning)\n",
            "/usr/local/lib/python3.7/dist-packages/statsmodels/tsa/base/tsa_model.py:579: ValueWarning: An unsupported index was provided and will be ignored when e.g. forecasting.\n",
            "  ' ignored when e.g. forecasting.', ValueWarning)\n"
          ]
        }
      ]
    },
    {
      "cell_type": "code",
      "source": [
        "# Do prediction in training\n",
        "prediction_arima_train = model_fit.predict(start = sequence_length+1 ,end = len(data_train))\n",
        "# Do predictions in testing\n",
        "prediction_arima_test = model_fit.predict(start = len(data_train),end = len(data_train)+ len(data_test[sequence_length:])-1)\n",
        "\n",
        "# Print r square in train\n",
        "R_square_train = r2_score(data_train[['Open']][sequence_length:].values, scaler.inverse_transform(prediction_arima_train.values.reshape(-1, 1))) \n",
        "print('Coefficient of determination in train', round(R_square_train,2))\n",
        "# Print r square in test\n",
        "R_square_test = r2_score(data_test[['Open']][sequence_length:].values,scaler.inverse_transform(prediction_arima_test.values.reshape(-1, 1))) \n",
        "print('Coefficient of determination in test', round(R_square_test,2))\n",
        "    \n",
        "\n",
        "# Getting MAE\n",
        "error_mean_train = round(np.mean(abs(data_train[['Open']][sequence_length:].values- scaler.inverse_transform(prediction_arima_train.values.reshape(-1, 1)))),2)\n",
        "print('Mean Absolute Error in training: ', str(error_mean_train))\n",
        "error_mean_test = round(np.mean(abs(scaler.inverse_transform(prediction_arima_test.values.reshape(-1, 1))- data_test[['Open']][sequence_length:].values)),2)\n",
        "print('Mean Absolute Error in testing: ', str(error_mean_test))"
      ],
      "metadata": {
        "colab": {
          "base_uri": "https://localhost:8080/"
        },
        "id": "qLORytTWBA8P",
        "outputId": "79686473-f60d-44d1-ebd2-fd83b7c61214"
      },
      "execution_count": 14,
      "outputs": [
        {
          "output_type": "stream",
          "name": "stderr",
          "text": [
            "/usr/local/lib/python3.7/dist-packages/statsmodels/tsa/base/tsa_model.py:379: ValueWarning: No supported index is available. Prediction results will be given with an integer index beginning at `start`.\n",
            "  ValueWarning)\n"
          ]
        },
        {
          "output_type": "stream",
          "name": "stdout",
          "text": [
            "Coefficient of determination in train 1.0\n",
            "Coefficient of determination in test -3.07\n",
            "Mean Absolute Error in training:  0.24\n",
            "Mean Absolute Error in testing:  79.7\n"
          ]
        },
        {
          "output_type": "stream",
          "name": "stderr",
          "text": [
            "/usr/local/lib/python3.7/dist-packages/statsmodels/tsa/base/tsa_model.py:379: ValueWarning: No supported index is available. Prediction results will be given with an integer index beginning at `start`.\n",
            "  ValueWarning)\n"
          ]
        }
      ]
    },
    {
      "cell_type": "code",
      "source": [
        "# Create plot\n",
        "figure, axis = plt.subplots(1, 2,figsize=(15, 5))\n",
        "axis[0].plot(data_train['Date'][sequence_length:],data_train['Open'][sequence_length:])\n",
        "axis[0].plot(data_train['Date'][sequence_length:],scaler.inverse_transform(prediction_arima_train.values.reshape(-1,1)))\n",
        "axis[0].set_title(\"Prediction in  training\")\n",
        "axis[0].set_ylim(0,350)\n",
        "axis[1].plot(data_test['Date'][sequence_length:],data_test['Open'][sequence_length:])\n",
        "axis[1].plot(data_test['Date'][sequence_length:],scaler.inverse_transform(prediction_arima_test.values.reshape(-1,1)))\n",
        "axis[1].set_title(\"Prediction in  testing\")\n",
        "axis[1].set_ylim(0,350)\n",
        "plt.legend(loc = 'upper left')\n",
        "plt.show()"
      ],
      "metadata": {
        "colab": {
          "base_uri": "https://localhost:8080/",
          "height": 263
        },
        "id": "kmKUWGkaBe0G",
        "outputId": "f6e8e782-b7bd-4411-ea6d-0d2869e406cc"
      },
      "execution_count": 15,
      "outputs": [
        {
          "output_type": "stream",
          "name": "stderr",
          "text": [
            "WARNING:matplotlib.legend:No handles with labels found to put in legend.\n"
          ]
        },
        {
          "output_type": "display_data",
          "data": {
            "text/plain": [
              "<Figure size 1080x360 with 2 Axes>"
            ],
            "image/png": "[encoded data removed]"
          },
          "metadata": {
            "needs_background": "light"
          }
        }
      ]
    }
  ]
}